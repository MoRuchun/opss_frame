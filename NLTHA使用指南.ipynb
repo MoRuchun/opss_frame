{
  "cells": [
    {
      "cell_type": "markdown",
      "metadata": {},
      "source": [
        "# 非线性时程分析使用指南\n",
        "本笔记展示如何使用 `opss_frame` 中的 API 完成增量动力分析（IDA）和多条地震动条带分析（MSA）。"
      ]
    },
    {
      "cell_type": "code",
      "execution_count": null,
      "metadata": {},
      "outputs": [],
      "source": [
        "from pathlib import Path\n",
        "import pickle\n",
        "import numpy as np\n",
        "\n",
        "repo_root = Path('..').resolve() if (Path.cwd() / 'examples').exists() else Path.cwd()\n",
        "examples_dir = repo_root / 'examples'\n",
        "inputs_dir = examples_dir / 'Inputs'\n",
        "records_dir = examples_dir / 'recordsMSA'\n"
      ]
    },
    {
      "cell_type": "markdown",
      "metadata": {},
      "source": [
        "## 准备 IDA 所需的模型与输入\n",
        "`RCMRF` 类负责建立框架模型并协调分析流程。配置时需要提供截面、荷载、材料以及地震动信息，并明确 `periods_ida` 与阻尼比。"
      ]
    },
    {
      "cell_type": "code",
      "execution_count": null,
      "metadata": {},
      "outputs": [],
      "source": [
        "import pickle\n",
        "from rcmrf import RCMRF\n",
        "\n",
        "sections_file = inputs_dir / 'hinge_models.pickle'\n",
        "with sections_file.open('rb') as f:\n",
        "    sections_data = pickle.load(f)\n",
        "\n",
        "materials_file = inputs_dir / 'materials.csv'\n",
        "loads_file = inputs_dir / 'action.csv'\n",
        "gm_dir = examples_dir / 'gm_ida'\n",
        "gm_files = ['GMR_names1.txt', 'GMR_names2.txt', 'GMR_dts.txt']\n",
        "\n",
        "ida_periods = [0.96, 1.03]\n",
        "damping_ratio = 0.05\n",
        "analysis_output = examples_dir / 'outputs/ida_demo'\n",
        "analysis_output.mkdir(parents=True, exist_ok=True)\n",
        "\n",
        "ida_runner = RCMRF(sections_data, loads_file, materials_file, analysis_output,\n",
        "                     gmdir=gm_dir, gmfileNames=gm_files, analysis_type=['IDA'],\n",
        "                     periods_ida=ida_periods, damping=damping_ratio, flag3d=True,\n",
        "                     export_at_each_step=False, analysis_time_step=0.01, max_runs=5)\n"
      ]
    },
    {
      "cell_type": "markdown",
      "metadata": {},
      "source": [
        "## 运行 IDA 并查看输出\n",
        "调用 `run_model()` 会自动建立模型、执行 IDA 并在输出目录保存强度量与逐步结果。"
      ]
    },
    {
      "cell_type": "code",
      "execution_count": null,
      "metadata": {},
      "outputs": [],
      "source": [
        "ida_runner.wipe()\n",
        "ida_runner.run_model()\n",
        "ida_runner.wipe()\n",
        "\n",
        "im_file = (analysis_output / 'IM.csv').read_text() if (analysis_output / 'IM.csv').exists() else 'IM 文件将在分析完成后生成。'\n",
        "print(im_file[:200])\n"
      ]
    },
    {
      "cell_type": "markdown",
      "metadata": {},
      "source": [
        "## 设置并执行 MSA\n",
        "`MultiStripeAnalysis` 使用与 IDA 相同的模型输入，但需要将记录按照条带批次组织。我们复用 `periods_ida` 来计算圆频率。"
      ]
    },
    {
      "cell_type": "code",
      "execution_count": null,
      "metadata": {},
      "outputs": [],
      "source": [
        "from analysis.multiStripeAnalysis import MultiStripeAnalysis, get_records\n",
        "\n",
        "omegas = 2 * np.pi / np.array(ida_periods)\n",
        "msa_output = examples_dir / 'outputs/msa_demo'\n",
        "msa_output.mkdir(parents=True, exist_ok=True)\n",
        "\n",
        "msa_runner = MultiStripeAnalysis(sections_data, loads_file, materials_file, records_dir,\n",
        "                                   damping_ratio, omegas, msa_output,\n",
        "                                   system='space', hingeModel='hysteretic', flag3d=True,\n",
        "                                   analysis_time_step=0.01, drift_capacity=10.,\n",
        "                                   export_at_each_step=True)\n",
        "\n",
        "record_batches = get_records(records_dir, msa_output, ['GMR_H1_names.txt', 'GMR_H2_names.txt', 'GMR_dts.txt'])\n",
        "# msa_runner.start_process(record_batches, processes=2)  # 视计算资源情况启用\n"
      ]
    }
  ],
  "metadata": {
    "kernelspec": {
      "display_name": "Python 3",
      "language": "python",
      "name": "python3"
    },
    "language_info": {
      "name": "python",
      "version": "3.11"
    }
  },
  "nbformat": 4,
  "nbformat_minor": 5
}